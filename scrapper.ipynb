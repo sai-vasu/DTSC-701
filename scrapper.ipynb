{
 "cells": [
  {
   "cell_type": "code",
   "execution_count": 17,
   "metadata": {
    "colab": {
     "base_uri": "https://localhost:8080/"
    },
    "id": "r1nxSl2jHFcK",
    "outputId": "5bf5a2cd-4f4f-4b30-dd14-0af0957c81ed"
   },
   "outputs": [],
   "source": [
    "import requests\n",
    "from bs4 import BeautifulSoup\n",
    "\n",
    "# The URL of the webpage to scrape\n",
    "url = \"https://cs.nyu.edu/dynamic/people/faculty/type/1/\"\n",
    "\n",
    "# Send a GET request to the URL\n",
    "response = requests.get(url)\n"
   ]
  },
  {
   "cell_type": "code",
   "execution_count": 30,
   "metadata": {
    "colab": {
     "base_uri": "https://localhost:8080/"
    },
    "id": "r1nxSl2jHFcK",
    "outputId": "5bf5a2cd-4f4f-4b30-dd14-0af0957c81ed"
   },
   "outputs": [
    {
     "name": "stdout",
     "output_type": "stream",
     "text": [
      "Data saved to info_paragraphs.txt\n"
     ]
    }
   ],
   "source": [
    "# Check if the request was successful\n",
    "if response.status_code == 200:\n",
    "    # Parse the HTML content using BeautifulSoup\n",
    "    soup = BeautifulSoup(response.content, \"html.parser\")\n",
    "\n",
    "    # Find all <p> elements with class=\"info\"\n",
    "    info_paragraphs = soup.find_all(\"p\", class_=\"info\")\n",
    "\n",
    "    # Extract and write the text content of each <p> element to a text file\n",
    "    with open(\"info_paragraphs.txt\", \"w\", encoding=\"utf-8\") as file:\n",
    "        for paragraph in info_paragraphs:\n",
    "            file.write(paragraph.get_text() + \"\\n\\n\")\n",
    "\n",
    "    print(\"Data saved to info_paragraphs.txt\")\n",
    "\n",
    "else:\n",
    "    print(\"Failed to retrieve the webpage\")\n"
   ]
  },
  {
   "cell_type": "code",
   "execution_count": null,
   "metadata": {},
   "outputs": [],
   "source": []
  }
 ],
 "metadata": {
  "colab": {
   "provenance": []
  },
  "kernelspec": {
   "display_name": "Python 3 (ipykernel)",
   "language": "python",
   "name": "python3"
  },
  "language_info": {
   "codemirror_mode": {
    "name": "ipython",
    "version": 3
   },
   "file_extension": ".py",
   "mimetype": "text/x-python",
   "name": "python",
   "nbconvert_exporter": "python",
   "pygments_lexer": "ipython3",
   "version": "3.9.13"
  }
 },
 "nbformat": 4,
 "nbformat_minor": 4
}
