{
  "nbformat": 4,
  "nbformat_minor": 0,
  "metadata": {
    "colab": {
      "provenance": []
    },
    "kernelspec": {
      "name": "python3",
      "display_name": "Python 3"
    },
    "language_info": {
      "name": "python"
    }
  },
  "cells": [
    {
      "cell_type": "markdown",
      "source": [
        "**NAME: SAI VASAVI PONNADA**\n",
        "\n",
        "**STUDENT ID: 1321765**\n",
        "\n",
        "**ASSIGNMENT 1**"
      ],
      "metadata": {
        "id": "sDtReJ2UKTvj"
      }
    },
    {
      "cell_type": "code",
      "execution_count": 6,
      "metadata": {
        "colab": {
          "base_uri": "https://localhost:8080/"
        },
        "id": "urwwjO765ItQ",
        "outputId": "1df4b5bc-fa72-439d-f2af-390efbf171f5"
      },
      "outputs": [
        {
          "output_type": "stream",
          "name": "stdout",
          "text": [
            "Enter a message (lowercase alphabets only): ghybbbhtttj\n",
            "ghyb3ht3j\n"
          ]
        }
      ],
      "source": [
        "def message(msg):\n",
        "    compressed_msg = \"\"\n",
        "    count = 1  # Initialize count to 1 for the first character\n",
        "\n",
        "    for i in range(1, len(msg)):\n",
        "        if msg[i] == msg[i - 1]:\n",
        "            count += 1\n",
        "        else:\n",
        "            compressed_msg += msg[i - 1]\n",
        "            if count > 1:\n",
        "                compressed_msg += str(count)\n",
        "            count = 1  # Reset count for the new character\n",
        "\n",
        "    # Append the last character and its count (if greater than 1)\n",
        "    compressed_msg += msg[-1]\n",
        "    if count > 1:\n",
        "        compressed_msg += str(count)\n",
        "\n",
        "    return compressed_msg\n",
        "\n",
        "# Input\n",
        "msg = input(\"Enter a message (lowercase alphabets only): \")\n",
        "\n",
        "# Output\n",
        "compressed_msg = message(msg)\n",
        "print(compressed_msg)\n"
      ]
    }
  ]
}